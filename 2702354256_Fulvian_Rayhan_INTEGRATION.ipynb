{
  "cells": [
    {
      "cell_type": "markdown",
      "metadata": {
        "id": "view-in-github",
        "colab_type": "text"
      },
      "source": [
        "<a href=\"https://colab.research.google.com/github/fulviann/LAB-5-SCIENTIFIC-COMPUTING/blob/main/2702354256_Fulvian_Rayhan_INTEGRATION.ipynb\" target=\"_parent\"><img src=\"https://colab.research.google.com/assets/colab-badge.svg\" alt=\"Open In Colab\"/></a>"
      ]
    },
    {
      "cell_type": "code",
      "source": [
        "import numpy as np\n",
        "\n",
        "a=0\n",
        "b=np.pi\n",
        "n=11\n",
        "h=(b-a)/(n-1)\n",
        "x=np.linspace(a,b,n)\n",
        "f=np.sin(x)\n",
        "\n",
        "I_riemannL=h*sum(f[:n-1])\n",
        "err_riemannL=2-I_riemannL\n",
        "\n",
        "I_riemannR=h*sum(f[1::])\n",
        "err_riemannR=2-I_riemannR\n",
        "\n",
        "I_mid=h*sum(np.sin((x[:n-1]\\\n",
        "+x[1:])/2))\n",
        "err_mid=2-I_mid\n",
        "\n",
        "print(I_riemannL)\n",
        "print(err_riemannL)\n",
        "\n",
        "print(I_riemannR)\n",
        "print(err_riemannR)\n",
        "\n",
        "print(I_mid)\n",
        "print(err_mid)\n"
      ],
      "metadata": {
        "id": "lc_PkHeZ2zA_",
        "outputId": "ae673177-7f75-43b9-dc27-8a9a45bb0573",
        "colab": {
          "base_uri": "https://localhost:8080/"
        }
      },
      "execution_count": null,
      "outputs": [
        {
          "output_type": "stream",
          "name": "stdout",
          "text": [
            "1.9835235375094546\n",
            "0.01647646249054535\n",
            "1.9835235375094546\n",
            "0.01647646249054535\n",
            "2.0082484079079745\n",
            "-0.008248407907974542\n"
          ]
        }
      ]
    },
    {
      "cell_type": "markdown",
      "source": [
        "![image.png](data:image/png;base64,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)"
      ],
      "metadata": {
        "id": "-GeFEc-W3Jbo"
      }
    },
    {
      "cell_type": "code",
      "source": [
        "import numpy as np\n",
        "\n",
        "a=0\n",
        "b=np.pi\n",
        "n=11\n",
        "h=(b-a)/(n-1)\n",
        "x=np.linspace(a,b,n)\n",
        "f=np.sin(x)\n",
        "\n",
        "I_trap=(h/2)*(f[0]+\\\n",
        "2*sum(f[1:n-1])+f[n-1])\n",
        "err_trap=2-I_trap\n",
        "\n",
        "print(I_trap)\n",
        "print(err_trap)\n"
      ],
      "metadata": {
        "id": "PBXR3qVg3JAB",
        "outputId": "a8f5493c-b75d-49da-8a53-f5f608375b84",
        "colab": {
          "base_uri": "https://localhost:8080/"
        }
      },
      "execution_count": null,
      "outputs": [
        {
          "output_type": "stream",
          "name": "stdout",
          "text": [
            "1.9835235375094546\n",
            "0.01647646249054535\n"
          ]
        }
      ]
    },
    {
      "cell_type": "code",
      "source": [
        "import numpy as np\n",
        "from scipy.integrate import trapz\n",
        "\n",
        "a=0\n",
        "b=np.pi\n",
        "n=11\n",
        "h=(b-a)/(n-1)\n",
        "x=np.linspace(a,b,n)\n",
        "f=np.sin(x)\n",
        "\n",
        "I_trapz=trapz(f,x)\n",
        "I_trap=(h/2)*(f[0]+2*sum(f[1:n-1])+f[n-1])\n",
        "\n",
        "print(I_trapz)\n",
        "print(I_trap)\n"
      ],
      "metadata": {
        "id": "l0nhw2xC3uQa",
        "outputId": "20754960-c05f-40f6-cb88-d0c53d45b066",
        "colab": {
          "base_uri": "https://localhost:8080/"
        }
      },
      "execution_count": null,
      "outputs": [
        {
          "output_type": "stream",
          "name": "stdout",
          "text": [
            "1.9835235375094544\n",
            "1.9835235375094546\n"
          ]
        }
      ]
    },
    {
      "cell_type": "code",
      "source": [
        "from scipy.integrate import quad\n",
        "I_quad,est_err_quad=\\\n",
        "quad(np.sin,0,np.pi)\n",
        "print(I_quad)\n",
        "err_quad=2-I_quad\n",
        "print(est_err_quad,err_quad)\n"
      ],
      "metadata": {
        "id": "vtXSHbj_8FjK",
        "outputId": "b0bd9627-647c-4f16-8f5b-bbdbfae3d0a3",
        "colab": {
          "base_uri": "https://localhost:8080/"
        }
      },
      "execution_count": null,
      "outputs": [
        {
          "output_type": "stream",
          "name": "stdout",
          "text": [
            "2.0\n",
            "2.220446049250313e-14 0.0\n"
          ]
        }
      ]
    }
  ],
  "metadata": {
    "colab": {
      "toc_visible": true,
      "provenance": [],
      "include_colab_link": true
    },
    "kernelspec": {
      "display_name": "Python 3",
      "name": "python3"
    }
  },
  "nbformat": 4,
  "nbformat_minor": 0
}